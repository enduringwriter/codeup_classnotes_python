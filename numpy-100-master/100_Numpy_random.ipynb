{
 "cells": [
  {
   "cell_type": "markdown",
   "id": "fc29ba19",
   "metadata": {},
   "source": [
    "# 100 numpy exercises\n",
    "\n",
    "This is a collection of exercises that have been collected in the numpy mailing list, on stack overflow\n",
    "and in the numpy documentation. The goal of this collection is to offer a quick reference for both old\n",
    "and new users but also to provide a set of exercises for those who teach.\n",
    "\n",
    "\n",
    "If you find an error or think you've a better way to solve some of them, feel\n",
    "free to open an issue at <https://github.com/rougier/numpy-100>."
   ]
  },
  {
   "cell_type": "markdown",
   "id": "c71c938e",
   "metadata": {},
   "source": [
    "File automatically generated. See the documentation to update questions/answers/hints programmatically."
   ]
  },
  {
   "cell_type": "markdown",
   "id": "9295ebad",
   "metadata": {},
   "source": [
    "Run the `initialize.py` module, then call a random question with `pick()` an hint towards its solution with\n",
    "`hint(n)` and the answer with `answer(n)`, where n is the number of the picked question."
   ]
  },
  {
   "cell_type": "code",
   "execution_count": null,
   "id": "75ba9fda",
   "metadata": {},
   "outputs": [],
   "source": [
    "%run initialise.py"
   ]
  },
  {
   "cell_type": "code",
   "execution_count": null,
   "id": "5e130ff3",
   "metadata": {},
   "outputs": [],
   "source": [
    "pick()"
   ]
  }
 ],
 "metadata": {},
 "nbformat": 4,
 "nbformat_minor": 5
}
