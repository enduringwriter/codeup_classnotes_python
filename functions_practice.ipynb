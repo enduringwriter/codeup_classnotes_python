{
 "cells": [
  {
   "cell_type": "markdown",
   "id": "4d4b6cd2",
   "metadata": {},
   "source": [
    "### Keyword Argument v Positional Argument\n",
    "### Unpacking \\*List **Dictionary (recognizes keys)"
   ]
  },
  {
   "cell_type": "code",
   "execution_count": 7,
   "id": "8c4a58cc",
   "metadata": {},
   "outputs": [],
   "source": [
    "def sayhello(name='World', greeting='Hello'):\n",
    "    return '{}, {}!'.format(greeting, name)\n"
   ]
  },
  {
   "cell_type": "code",
   "execution_count": 9,
   "id": "132c457b",
   "metadata": {},
   "outputs": [
    {
     "data": {
      "text/plain": [
       "'Hello, World!'"
      ]
     },
     "execution_count": 9,
     "metadata": {},
     "output_type": "execute_result"
    }
   ],
   "source": [
    "sayhello()"
   ]
  },
  {
   "cell_type": "code",
   "execution_count": 10,
   "id": "7ffba05b",
   "metadata": {},
   "outputs": [
    {
     "data": {
      "text/plain": [
       "'Salutations, Codeup!'"
      ]
     },
     "execution_count": 10,
     "metadata": {},
     "output_type": "execute_result"
    }
   ],
   "source": [
    "sayhello(greeting='USA', name='Texas')"
   ]
  },
  {
   "cell_type": "code",
   "execution_count": 11,
   "id": "b59c3054",
   "metadata": {},
   "outputs": [
    {
     "data": {
      "text/plain": [
       "'Salutations, Codeup!'"
      ]
     },
     "execution_count": 11,
     "metadata": {},
     "output_type": "execute_result"
    }
   ],
   "source": [
    "sayhello('Texas', greeting='USA') # Okay"
   ]
  },
  {
   "cell_type": "code",
   "execution_count": 19,
   "id": "2905abfc",
   "metadata": {
    "scrolled": true
   },
   "outputs": [
    {
     "ename": "SyntaxError",
     "evalue": "positional argument follows keyword argument (1175000546.py, line 1)",
     "output_type": "error",
     "traceback": [
      "\u001b[0;36m  Input \u001b[0;32mIn [19]\u001b[0;36m\u001b[0m\n\u001b[0;31m    sayhello(greeting='USA', 'Texas') # ERROR!\u001b[0m\n\u001b[0m                                    ^\u001b[0m\n\u001b[0;31mSyntaxError\u001b[0m\u001b[0;31m:\u001b[0m positional argument follows keyword argument\n"
     ]
    }
   ],
   "source": [
    "sayhello(greeting='USA', 'Texas') # ERROR!"
   ]
  },
  {
   "cell_type": "code",
   "execution_count": 18,
   "id": "5196d3ca",
   "metadata": {},
   "outputs": [
    {
     "data": {
      "text/plain": [
       "'USA, Texas!'"
      ]
     },
     "execution_count": 18,
     "metadata": {},
     "output_type": "execute_result"
    }
   ],
   "source": [
    "args = ['Texas', 'USA']\n",
    "\n",
    "sayhello(*args)"
   ]
  },
  {
   "cell_type": "code",
   "execution_count": 17,
   "id": "70be9cc7",
   "metadata": {},
   "outputs": [
    {
     "data": {
      "text/plain": [
       "'USA, Texas!'"
      ]
     },
     "execution_count": 17,
     "metadata": {},
     "output_type": "execute_result"
    }
   ],
   "source": [
    "kwargs = {'greeting': 'USA', 'name': 'Texas'}\n",
    "\n",
    "sayhello(**kwargs)"
   ]
  },
  {
   "cell_type": "markdown",
   "id": "7f04c955",
   "metadata": {},
   "source": [
    "### Lamda - executes as a single return statement, so 'return' is not required"
   ]
  },
  {
   "cell_type": "code",
   "execution_count": 20,
   "id": "5a7d674f",
   "metadata": {},
   "outputs": [
    {
     "data": {
      "text/plain": [
       "10"
      ]
     },
     "execution_count": 20,
     "metadata": {},
     "output_type": "execute_result"
    }
   ],
   "source": [
    "add_one = lambda n: n + 1\n",
    "add_one(9)\n"
   ]
  },
  {
   "cell_type": "code",
   "execution_count": 21,
   "id": "e69712b8",
   "metadata": {},
   "outputs": [
    {
     "data": {
      "text/plain": [
       "81"
      ]
     },
     "execution_count": 21,
     "metadata": {},
     "output_type": "execute_result"
    }
   ],
   "source": [
    "square = lambda n: n ** 2\n",
    "square(9)"
   ]
  }
 ],
 "metadata": {
  "kernelspec": {
   "display_name": "Python 3 (ipykernel)",
   "language": "python",
   "name": "python3"
  },
  "language_info": {
   "codemirror_mode": {
    "name": "ipython",
    "version": 3
   },
   "file_extension": ".py",
   "mimetype": "text/x-python",
   "name": "python",
   "nbconvert_exporter": "python",
   "pygments_lexer": "ipython3",
   "version": "3.9.13"
  }
 },
 "nbformat": 4,
 "nbformat_minor": 5
}
