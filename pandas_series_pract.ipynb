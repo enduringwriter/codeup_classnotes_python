{
 "cells": [
  {
   "cell_type": "markdown",
   "id": "2fe7c553",
   "metadata": {},
   "source": [
    "## Pandas Series"
   ]
  },
  {
   "cell_type": "code",
   "execution_count": 192,
   "id": "2064cbd8",
   "metadata": {},
   "outputs": [],
   "source": [
    "import numpy as np\n",
    "import pandas as pd\n",
    "import matplotlib.pyplot as plt\n"
   ]
  },
  {
   "cell_type": "markdown",
   "id": "036924dc",
   "metadata": {},
   "source": [
    "### pandas series is a 1D object"
   ]
  },
  {
   "cell_type": "code",
   "execution_count": 193,
   "id": "09605205",
   "metadata": {},
   "outputs": [],
   "source": [
    "colors = ['red', 'yellow', 'green', 'blue', 'orange', 'red', 'violet', 'indigo']"
   ]
  },
  {
   "cell_type": "code",
   "execution_count": 194,
   "id": "e6bfcba4",
   "metadata": {},
   "outputs": [
    {
     "data": {
      "text/plain": [
       "array(['red', 'yellow', 'green', 'blue', 'orange', 'red', 'violet',\n",
       "       'indigo'], dtype='<U6')"
      ]
     },
     "execution_count": 194,
     "metadata": {},
     "output_type": "execute_result"
    }
   ],
   "source": [
    "colors_array = np.array(colors)\n",
    "colors_array"
   ]
  },
  {
   "cell_type": "code",
   "execution_count": 195,
   "id": "da10b045",
   "metadata": {},
   "outputs": [],
   "source": [
    "pd.Series?"
   ]
  },
  {
   "cell_type": "code",
   "execution_count": 196,
   "id": "7ed4039d",
   "metadata": {},
   "outputs": [
    {
     "data": {
      "text/plain": [
       "0       red\n",
       "1    yellow\n",
       "2     green\n",
       "3      blue\n",
       "4    orange\n",
       "5       red\n",
       "6    violet\n",
       "7    indigo\n",
       "dtype: object"
      ]
     },
     "execution_count": 196,
     "metadata": {},
     "output_type": "execute_result"
    }
   ],
   "source": [
    "colors_series = pd.Series(colors)\n",
    "colors_series"
   ]
  },
  {
   "cell_type": "code",
   "execution_count": 197,
   "id": "14c58ac1",
   "metadata": {
    "scrolled": true
   },
   "outputs": [
    {
     "data": {
      "text/plain": [
       "array([ 5, 10, 15, 20, 25, 30, 35, 40, 40])"
      ]
     },
     "execution_count": 197,
     "metadata": {},
     "output_type": "execute_result"
    }
   ],
   "source": [
    "# Create a numpy array 'arr'.\n",
    "\n",
    "arr = np.array([5, 10, 15, 20, 25, 30, 35, 40, 40])\n",
    "arr"
   ]
  },
  {
   "cell_type": "code",
   "execution_count": 198,
   "id": "7658850c",
   "metadata": {},
   "outputs": [
    {
     "data": {
      "text/plain": [
       "array([ 6, 11, 16, 21, 26, 31, 36, 41, 41])"
      ]
     },
     "execution_count": 198,
     "metadata": {},
     "output_type": "execute_result"
    }
   ],
   "source": [
    "arr + 1"
   ]
  },
  {
   "cell_type": "code",
   "execution_count": 199,
   "id": "bf8acf40",
   "metadata": {},
   "outputs": [
    {
     "data": {
      "text/plain": [
       "0     5\n",
       "1    10\n",
       "2    15\n",
       "3    20\n",
       "4    25\n",
       "5    30\n",
       "6    35\n",
       "7    40\n",
       "8    40\n",
       "dtype: int64"
      ]
     },
     "execution_count": 199,
     "metadata": {},
     "output_type": "execute_result"
    }
   ],
   "source": [
    "# Convert my numpy array to a pandas Series called 'numeric_series'.\n",
    "arr_panda = pd.Series(arr)\n",
    "arr_panda"
   ]
  },
  {
   "cell_type": "code",
   "execution_count": 200,
   "id": "1b26fc18",
   "metadata": {
    "scrolled": true
   },
   "outputs": [
    {
     "name": "stdout",
     "output_type": "stream",
     "text": [
      "<class 'pandas.core.series.Series'>\n"
     ]
    }
   ],
   "source": [
    "# How can I confirm that 'numeric_series' is now a pandas Series object?\n",
    "print(type(arr_panda))"
   ]
  },
  {
   "cell_type": "code",
   "execution_count": null,
   "id": "86734bab",
   "metadata": {},
   "outputs": [],
   "source": []
  },
  {
   "cell_type": "code",
   "execution_count": null,
   "id": "b9713bda",
   "metadata": {},
   "outputs": [],
   "source": []
  },
  {
   "cell_type": "code",
   "execution_count": null,
   "id": "b2ff6707",
   "metadata": {},
   "outputs": [],
   "source": []
  },
  {
   "cell_type": "code",
   "execution_count": 201,
   "id": "fa74427f",
   "metadata": {},
   "outputs": [
    {
     "data": {
      "text/plain": [
       "{'a': 0, 'b': 1.5, 'c': 2, 'd': 3.5, 'e': 4, 'f': 5.5}"
      ]
     },
     "execution_count": 201,
     "metadata": {},
     "output_type": "execute_result"
    }
   ],
   "source": [
    "# Create a python dictionary.\n",
    "\n",
    "data = {'a' : 0, 'b' : 1.5, 'c' : 2, 'd': 3.5, 'e': 4, 'f': 5.5}\n",
    "data"
   ]
  },
  {
   "cell_type": "code",
   "execution_count": 202,
   "id": "b43b15f4",
   "metadata": {},
   "outputs": [
    {
     "data": {
      "text/plain": [
       "a    0.0\n",
       "b    1.5\n",
       "c    2.0\n",
       "d    3.5\n",
       "e    4.0\n",
       "f    5.5\n",
       "dtype: float64"
      ]
     },
     "execution_count": 202,
     "metadata": {},
     "output_type": "execute_result"
    }
   ],
   "source": [
    "diction_series = pd.Series(data)\n",
    "diction_series"
   ]
  },
  {
   "cell_type": "code",
   "execution_count": 203,
   "id": "8ea4efbb",
   "metadata": {},
   "outputs": [
    {
     "name": "stdout",
     "output_type": "stream",
     "text": [
      "<class 'pandas.core.series.Series'>\n"
     ]
    }
   ],
   "source": [
    "print(type(diction_series))"
   ]
  },
  {
   "cell_type": "code",
   "execution_count": null,
   "id": "afcc8a58",
   "metadata": {},
   "outputs": [],
   "source": []
  },
  {
   "cell_type": "code",
   "execution_count": 204,
   "id": "73940377",
   "metadata": {},
   "outputs": [
    {
     "data": {
      "text/plain": [
       "RangeIndex(start=0, stop=8, step=1)"
      ]
     },
     "execution_count": 204,
     "metadata": {},
     "output_type": "execute_result"
    }
   ],
   "source": [
    "colors_series.index"
   ]
  },
  {
   "cell_type": "code",
   "execution_count": null,
   "id": "15a5d74c",
   "metadata": {},
   "outputs": [],
   "source": []
  },
  {
   "cell_type": "code",
   "execution_count": 205,
   "id": "ecc69e0a",
   "metadata": {},
   "outputs": [],
   "source": [
    "from pydataset import data"
   ]
  },
  {
   "cell_type": "code",
   "execution_count": 206,
   "id": "4a353ff9",
   "metadata": {},
   "outputs": [],
   "source": [
    "df = data('iris')"
   ]
  },
  {
   "cell_type": "code",
   "execution_count": 207,
   "id": "648706a0",
   "metadata": {},
   "outputs": [
    {
     "data": {
      "text/plain": [
       "Int64Index([  1,   2,   3,   4,   5,   6,   7,   8,   9,  10,\n",
       "            ...\n",
       "            141, 142, 143, 144, 145, 146, 147, 148, 149, 150],\n",
       "           dtype='int64', length=150)"
      ]
     },
     "execution_count": 207,
     "metadata": {},
     "output_type": "execute_result"
    }
   ],
   "source": [
    "df.index"
   ]
  },
  {
   "cell_type": "code",
   "execution_count": 208,
   "id": "fe2b7745",
   "metadata": {},
   "outputs": [
    {
     "data": {
      "text/plain": [
       "Index(['Sepal.Length', 'Sepal.Width', 'Petal.Length', 'Petal.Width',\n",
       "       'Species'],\n",
       "      dtype='object')"
      ]
     },
     "execution_count": 208,
     "metadata": {},
     "output_type": "execute_result"
    }
   ],
   "source": [
    "df.columns"
   ]
  },
  {
   "cell_type": "code",
   "execution_count": 209,
   "id": "5a5c43c5",
   "metadata": {},
   "outputs": [
    {
     "data": {
      "text/plain": [
       "1      0.2\n",
       "2      0.2\n",
       "3      0.2\n",
       "4      0.2\n",
       "5      0.2\n",
       "6      0.4\n",
       "7      0.3\n",
       "8      0.2\n",
       "9      0.2\n",
       "10     0.1\n",
       "11     0.2\n",
       "12     0.2\n",
       "13     0.1\n",
       "14     0.1\n",
       "15     0.2\n",
       "16     0.4\n",
       "17     0.4\n",
       "18     0.3\n",
       "19     0.3\n",
       "20     0.3\n",
       "21     0.2\n",
       "22     0.4\n",
       "23     0.2\n",
       "24     0.5\n",
       "25     0.2\n",
       "26     0.2\n",
       "27     0.4\n",
       "28     0.2\n",
       "29     0.2\n",
       "30     0.2\n",
       "31     0.2\n",
       "32     0.4\n",
       "33     0.1\n",
       "34     0.2\n",
       "35     0.2\n",
       "36     0.2\n",
       "37     0.2\n",
       "38     0.1\n",
       "39     0.2\n",
       "40     0.2\n",
       "41     0.3\n",
       "42     0.3\n",
       "43     0.2\n",
       "44     0.6\n",
       "45     0.4\n",
       "46     0.3\n",
       "47     0.2\n",
       "48     0.2\n",
       "49     0.2\n",
       "50     0.2\n",
       "51     1.4\n",
       "52     1.5\n",
       "53     1.5\n",
       "54     1.3\n",
       "55     1.5\n",
       "56     1.3\n",
       "57     1.6\n",
       "58     1.0\n",
       "59     1.3\n",
       "60     1.4\n",
       "61     1.0\n",
       "62     1.5\n",
       "63     1.0\n",
       "64     1.4\n",
       "65     1.3\n",
       "66     1.4\n",
       "67     1.5\n",
       "68     1.0\n",
       "69     1.5\n",
       "70     1.1\n",
       "71     1.8\n",
       "72     1.3\n",
       "73     1.5\n",
       "74     1.2\n",
       "75     1.3\n",
       "76     1.4\n",
       "77     1.4\n",
       "78     1.7\n",
       "79     1.5\n",
       "80     1.0\n",
       "81     1.1\n",
       "82     1.0\n",
       "83     1.2\n",
       "84     1.6\n",
       "85     1.5\n",
       "86     1.6\n",
       "87     1.5\n",
       "88     1.3\n",
       "89     1.3\n",
       "90     1.3\n",
       "91     1.2\n",
       "92     1.4\n",
       "93     1.2\n",
       "94     1.0\n",
       "95     1.3\n",
       "96     1.2\n",
       "97     1.3\n",
       "98     1.3\n",
       "99     1.1\n",
       "100    1.3\n",
       "101    2.5\n",
       "102    1.9\n",
       "103    2.1\n",
       "104    1.8\n",
       "105    2.2\n",
       "106    2.1\n",
       "107    1.7\n",
       "108    1.8\n",
       "109    1.8\n",
       "110    2.5\n",
       "111    2.0\n",
       "112    1.9\n",
       "113    2.1\n",
       "114    2.0\n",
       "115    2.4\n",
       "116    2.3\n",
       "117    1.8\n",
       "118    2.2\n",
       "119    2.3\n",
       "120    1.5\n",
       "121    2.3\n",
       "122    2.0\n",
       "123    2.0\n",
       "124    1.8\n",
       "125    2.1\n",
       "126    1.8\n",
       "127    1.8\n",
       "128    1.8\n",
       "129    2.1\n",
       "130    1.6\n",
       "131    1.9\n",
       "132    2.0\n",
       "133    2.2\n",
       "134    1.5\n",
       "135    1.4\n",
       "136    2.3\n",
       "137    2.4\n",
       "138    1.8\n",
       "139    1.8\n",
       "140    2.1\n",
       "141    2.4\n",
       "142    2.3\n",
       "143    1.9\n",
       "144    2.3\n",
       "145    2.5\n",
       "146    2.3\n",
       "147    1.9\n",
       "148    2.0\n",
       "149    2.3\n",
       "150    1.8\n",
       "Name: Petal.Width, dtype: float64"
      ]
     },
     "execution_count": 209,
     "metadata": {},
     "output_type": "execute_result"
    }
   ],
   "source": [
    "df['Petal.Width']"
   ]
  },
  {
   "cell_type": "code",
   "execution_count": 210,
   "id": "2a00e911",
   "metadata": {},
   "outputs": [
    {
     "data": {
      "text/html": [
       "<div>\n",
       "<style scoped>\n",
       "    .dataframe tbody tr th:only-of-type {\n",
       "        vertical-align: middle;\n",
       "    }\n",
       "\n",
       "    .dataframe tbody tr th {\n",
       "        vertical-align: top;\n",
       "    }\n",
       "\n",
       "    .dataframe thead th {\n",
       "        text-align: right;\n",
       "    }\n",
       "</style>\n",
       "<table border=\"1\" class=\"dataframe\">\n",
       "  <thead>\n",
       "    <tr style=\"text-align: right;\">\n",
       "      <th></th>\n",
       "      <th>Sepal.Length</th>\n",
       "      <th>Sepal.Width</th>\n",
       "      <th>Petal.Length</th>\n",
       "      <th>Petal.Width</th>\n",
       "      <th>Species</th>\n",
       "    </tr>\n",
       "  </thead>\n",
       "  <tbody>\n",
       "    <tr>\n",
       "      <th>1</th>\n",
       "      <td>5.1</td>\n",
       "      <td>3.5</td>\n",
       "      <td>1.4</td>\n",
       "      <td>0.2</td>\n",
       "      <td>setosa</td>\n",
       "    </tr>\n",
       "    <tr>\n",
       "      <th>2</th>\n",
       "      <td>4.9</td>\n",
       "      <td>3.0</td>\n",
       "      <td>1.4</td>\n",
       "      <td>0.2</td>\n",
       "      <td>setosa</td>\n",
       "    </tr>\n",
       "    <tr>\n",
       "      <th>3</th>\n",
       "      <td>4.7</td>\n",
       "      <td>3.2</td>\n",
       "      <td>1.3</td>\n",
       "      <td>0.2</td>\n",
       "      <td>setosa</td>\n",
       "    </tr>\n",
       "    <tr>\n",
       "      <th>4</th>\n",
       "      <td>4.6</td>\n",
       "      <td>3.1</td>\n",
       "      <td>1.5</td>\n",
       "      <td>0.2</td>\n",
       "      <td>setosa</td>\n",
       "    </tr>\n",
       "    <tr>\n",
       "      <th>5</th>\n",
       "      <td>5.0</td>\n",
       "      <td>3.6</td>\n",
       "      <td>1.4</td>\n",
       "      <td>0.2</td>\n",
       "      <td>setosa</td>\n",
       "    </tr>\n",
       "  </tbody>\n",
       "</table>\n",
       "</div>"
      ],
      "text/plain": [
       "   Sepal.Length  Sepal.Width  Petal.Length  Petal.Width Species\n",
       "1           5.1          3.5           1.4          0.2  setosa\n",
       "2           4.9          3.0           1.4          0.2  setosa\n",
       "3           4.7          3.2           1.3          0.2  setosa\n",
       "4           4.6          3.1           1.5          0.2  setosa\n",
       "5           5.0          3.6           1.4          0.2  setosa"
      ]
     },
     "execution_count": 210,
     "metadata": {},
     "output_type": "execute_result"
    }
   ],
   "source": [
    "df.head()"
   ]
  },
  {
   "cell_type": "code",
   "execution_count": 211,
   "id": "aa1244a3",
   "metadata": {},
   "outputs": [
    {
     "data": {
      "text/plain": [
       "1      0.2\n",
       "2      0.2\n",
       "3      0.2\n",
       "4      0.2\n",
       "5      0.2\n",
       "6      0.4\n",
       "7      0.3\n",
       "8      0.2\n",
       "9      0.2\n",
       "10     0.1\n",
       "11     0.2\n",
       "12     0.2\n",
       "13     0.1\n",
       "14     0.1\n",
       "15     0.2\n",
       "16     0.4\n",
       "17     0.4\n",
       "18     0.3\n",
       "19     0.3\n",
       "20     0.3\n",
       "21     0.2\n",
       "22     0.4\n",
       "23     0.2\n",
       "24     0.5\n",
       "25     0.2\n",
       "26     0.2\n",
       "27     0.4\n",
       "28     0.2\n",
       "29     0.2\n",
       "30     0.2\n",
       "31     0.2\n",
       "32     0.4\n",
       "33     0.1\n",
       "34     0.2\n",
       "35     0.2\n",
       "36     0.2\n",
       "37     0.2\n",
       "38     0.1\n",
       "39     0.2\n",
       "40     0.2\n",
       "41     0.3\n",
       "42     0.3\n",
       "43     0.2\n",
       "44     0.6\n",
       "45     0.4\n",
       "46     0.3\n",
       "47     0.2\n",
       "48     0.2\n",
       "49     0.2\n",
       "50     0.2\n",
       "51     1.4\n",
       "52     1.5\n",
       "53     1.5\n",
       "54     1.3\n",
       "55     1.5\n",
       "56     1.3\n",
       "57     1.6\n",
       "58     1.0\n",
       "59     1.3\n",
       "60     1.4\n",
       "61     1.0\n",
       "62     1.5\n",
       "63     1.0\n",
       "64     1.4\n",
       "65     1.3\n",
       "66     1.4\n",
       "67     1.5\n",
       "68     1.0\n",
       "69     1.5\n",
       "70     1.1\n",
       "71     1.8\n",
       "72     1.3\n",
       "73     1.5\n",
       "74     1.2\n",
       "75     1.3\n",
       "76     1.4\n",
       "77     1.4\n",
       "78     1.7\n",
       "79     1.5\n",
       "80     1.0\n",
       "81     1.1\n",
       "82     1.0\n",
       "83     1.2\n",
       "84     1.6\n",
       "85     1.5\n",
       "86     1.6\n",
       "87     1.5\n",
       "88     1.3\n",
       "89     1.3\n",
       "90     1.3\n",
       "91     1.2\n",
       "92     1.4\n",
       "93     1.2\n",
       "94     1.0\n",
       "95     1.3\n",
       "96     1.2\n",
       "97     1.3\n",
       "98     1.3\n",
       "99     1.1\n",
       "100    1.3\n",
       "101    2.5\n",
       "102    1.9\n",
       "103    2.1\n",
       "104    1.8\n",
       "105    2.2\n",
       "106    2.1\n",
       "107    1.7\n",
       "108    1.8\n",
       "109    1.8\n",
       "110    2.5\n",
       "111    2.0\n",
       "112    1.9\n",
       "113    2.1\n",
       "114    2.0\n",
       "115    2.4\n",
       "116    2.3\n",
       "117    1.8\n",
       "118    2.2\n",
       "119    2.3\n",
       "120    1.5\n",
       "121    2.3\n",
       "122    2.0\n",
       "123    2.0\n",
       "124    1.8\n",
       "125    2.1\n",
       "126    1.8\n",
       "127    1.8\n",
       "128    1.8\n",
       "129    2.1\n",
       "130    1.6\n",
       "131    1.9\n",
       "132    2.0\n",
       "133    2.2\n",
       "134    1.5\n",
       "135    1.4\n",
       "136    2.3\n",
       "137    2.4\n",
       "138    1.8\n",
       "139    1.8\n",
       "140    2.1\n",
       "141    2.4\n",
       "142    2.3\n",
       "143    1.9\n",
       "144    2.3\n",
       "145    2.5\n",
       "146    2.3\n",
       "147    1.9\n",
       "148    2.0\n",
       "149    2.3\n",
       "150    1.8\n",
       "Name: Petal.Width, dtype: float64"
      ]
     },
     "execution_count": 211,
     "metadata": {},
     "output_type": "execute_result"
    }
   ],
   "source": [
    "petal_width_series = df['Petal.Width']\n",
    "petal_width_series"
   ]
  },
  {
   "cell_type": "code",
   "execution_count": 212,
   "id": "3712bacd",
   "metadata": {
    "scrolled": true
   },
   "outputs": [
    {
     "data": {
      "text/plain": [
       "pandas.core.series.Series"
      ]
     },
     "execution_count": 212,
     "metadata": {},
     "output_type": "execute_result"
    }
   ],
   "source": [
    "type(petal_width_series)"
   ]
  },
  {
   "cell_type": "code",
   "execution_count": 213,
   "id": "c6cc1bd2",
   "metadata": {},
   "outputs": [
    {
     "data": {
      "text/plain": [
       "1      0.2\n",
       "2      0.2\n",
       "3      0.2\n",
       "4      0.2\n",
       "5      0.2\n",
       "6      0.4\n",
       "7      0.3\n",
       "8      0.2\n",
       "9      0.2\n",
       "10     0.1\n",
       "11     0.2\n",
       "12     0.2\n",
       "13     0.1\n",
       "14     0.1\n",
       "15     0.2\n",
       "16     0.4\n",
       "17     0.4\n",
       "18     0.3\n",
       "19     0.3\n",
       "20     0.3\n",
       "21     0.2\n",
       "22     0.4\n",
       "23     0.2\n",
       "24     0.5\n",
       "25     0.2\n",
       "26     0.2\n",
       "27     0.4\n",
       "28     0.2\n",
       "29     0.2\n",
       "30     0.2\n",
       "31     0.2\n",
       "32     0.4\n",
       "33     0.1\n",
       "34     0.2\n",
       "35     0.2\n",
       "36     0.2\n",
       "37     0.2\n",
       "38     0.1\n",
       "39     0.2\n",
       "40     0.2\n",
       "41     0.3\n",
       "42     0.3\n",
       "43     0.2\n",
       "44     0.6\n",
       "45     0.4\n",
       "46     0.3\n",
       "47     0.2\n",
       "48     0.2\n",
       "49     0.2\n",
       "50     0.2\n",
       "51     1.4\n",
       "52     1.5\n",
       "53     1.5\n",
       "54     1.3\n",
       "55     1.5\n",
       "56     1.3\n",
       "57     1.6\n",
       "58     1.0\n",
       "59     1.3\n",
       "60     1.4\n",
       "61     1.0\n",
       "62     1.5\n",
       "63     1.0\n",
       "64     1.4\n",
       "65     1.3\n",
       "66     1.4\n",
       "67     1.5\n",
       "68     1.0\n",
       "69     1.5\n",
       "70     1.1\n",
       "71     1.8\n",
       "72     1.3\n",
       "73     1.5\n",
       "74     1.2\n",
       "75     1.3\n",
       "76     1.4\n",
       "77     1.4\n",
       "78     1.7\n",
       "79     1.5\n",
       "80     1.0\n",
       "81     1.1\n",
       "82     1.0\n",
       "83     1.2\n",
       "84     1.6\n",
       "85     1.5\n",
       "86     1.6\n",
       "87     1.5\n",
       "88     1.3\n",
       "89     1.3\n",
       "90     1.3\n",
       "91     1.2\n",
       "92     1.4\n",
       "93     1.2\n",
       "94     1.0\n",
       "95     1.3\n",
       "96     1.2\n",
       "97     1.3\n",
       "98     1.3\n",
       "99     1.1\n",
       "100    1.3\n",
       "101    2.5\n",
       "102    1.9\n",
       "103    2.1\n",
       "104    1.8\n",
       "105    2.2\n",
       "106    2.1\n",
       "107    1.7\n",
       "108    1.8\n",
       "109    1.8\n",
       "110    2.5\n",
       "111    2.0\n",
       "112    1.9\n",
       "113    2.1\n",
       "114    2.0\n",
       "115    2.4\n",
       "116    2.3\n",
       "117    1.8\n",
       "118    2.2\n",
       "119    2.3\n",
       "120    1.5\n",
       "121    2.3\n",
       "122    2.0\n",
       "123    2.0\n",
       "124    1.8\n",
       "125    2.1\n",
       "126    1.8\n",
       "127    1.8\n",
       "128    1.8\n",
       "129    2.1\n",
       "130    1.6\n",
       "131    1.9\n",
       "132    2.0\n",
       "133    2.2\n",
       "134    1.5\n",
       "135    1.4\n",
       "136    2.3\n",
       "137    2.4\n",
       "138    1.8\n",
       "139    1.8\n",
       "140    2.1\n",
       "141    2.4\n",
       "142    2.3\n",
       "143    1.9\n",
       "144    2.3\n",
       "145    2.5\n",
       "146    2.3\n",
       "147    1.9\n",
       "148    2.0\n",
       "149    2.3\n",
       "150    1.8\n",
       "Name: Petal.Width, dtype: float64"
      ]
     },
     "execution_count": 213,
     "metadata": {},
     "output_type": "execute_result"
    }
   ],
   "source": [
    "df['Petal.Width']"
   ]
  },
  {
   "cell_type": "code",
   "execution_count": null,
   "id": "6acf6a09",
   "metadata": {},
   "outputs": [],
   "source": []
  },
  {
   "cell_type": "code",
   "execution_count": 214,
   "id": "988aef92",
   "metadata": {},
   "outputs": [
    {
     "data": {
      "text/plain": [
       "0       red\n",
       "1    yellow\n",
       "2     green\n",
       "3      blue\n",
       "4    orange\n",
       "5       red\n",
       "6    violet\n",
       "7    indigo\n",
       "dtype: object"
      ]
     },
     "execution_count": 214,
     "metadata": {},
     "output_type": "execute_result"
    }
   ],
   "source": [
    "colors_series"
   ]
  },
  {
   "cell_type": "code",
   "execution_count": 215,
   "id": "0291b931",
   "metadata": {},
   "outputs": [
    {
     "data": {
      "text/plain": [
       "RangeIndex(start=0, stop=8, step=1)"
      ]
     },
     "execution_count": 215,
     "metadata": {},
     "output_type": "execute_result"
    }
   ],
   "source": [
    "colors_series.index"
   ]
  },
  {
   "cell_type": "code",
   "execution_count": 216,
   "id": "c99224ff",
   "metadata": {},
   "outputs": [
    {
     "data": {
      "text/plain": [
       "[0, 1, 2, 3, 4, 5, 6, 7]"
      ]
     },
     "execution_count": 216,
     "metadata": {},
     "output_type": "execute_result"
    }
   ],
   "source": [
    "list(colors_series.index)"
   ]
  },
  {
   "cell_type": "code",
   "execution_count": 217,
   "id": "fed87b9c",
   "metadata": {},
   "outputs": [
    {
     "data": {
      "text/plain": [
       "array(['red', 'yellow', 'green', 'blue', 'orange', 'red', 'violet',\n",
       "       'indigo'], dtype=object)"
      ]
     },
     "execution_count": 217,
     "metadata": {},
     "output_type": "execute_result"
    }
   ],
   "source": [
    "colors_series.values"
   ]
  },
  {
   "cell_type": "code",
   "execution_count": 218,
   "id": "0ab4d529",
   "metadata": {
    "scrolled": true
   },
   "outputs": [
    {
     "data": {
      "text/plain": [
       "numpy.ndarray"
      ]
     },
     "execution_count": 218,
     "metadata": {},
     "output_type": "execute_result"
    }
   ],
   "source": [
    "type(colors_series.values)"
   ]
  },
  {
   "cell_type": "code",
   "execution_count": 219,
   "id": "b2d28a53",
   "metadata": {},
   "outputs": [
    {
     "name": "stdout",
     "output_type": "stream",
     "text": [
      "<class 'numpy.ndarray'>\n"
     ]
    }
   ],
   "source": [
    "print(type(colors_series.values))"
   ]
  },
  {
   "cell_type": "code",
   "execution_count": 220,
   "id": "d92b7604",
   "metadata": {},
   "outputs": [
    {
     "data": {
      "text/plain": [
       "dtype('O')"
      ]
     },
     "execution_count": 220,
     "metadata": {},
     "output_type": "execute_result"
    }
   ],
   "source": [
    "colors_series.dtype"
   ]
  },
  {
   "cell_type": "code",
   "execution_count": 221,
   "id": "87ab2262",
   "metadata": {},
   "outputs": [
    {
     "data": {
      "text/plain": [
       "8"
      ]
     },
     "execution_count": 221,
     "metadata": {},
     "output_type": "execute_result"
    }
   ],
   "source": [
    "colors_series.size"
   ]
  },
  {
   "cell_type": "code",
   "execution_count": 222,
   "id": "9e1f0abe",
   "metadata": {},
   "outputs": [
    {
     "data": {
      "text/plain": [
       "(8,)"
      ]
     },
     "execution_count": 222,
     "metadata": {},
     "output_type": "execute_result"
    }
   ],
   "source": [
    "colors_series.shape"
   ]
  },
  {
   "cell_type": "code",
   "execution_count": 223,
   "id": "ff6d5145",
   "metadata": {},
   "outputs": [
    {
     "data": {
      "text/plain": [
       "(150, 5)"
      ]
     },
     "execution_count": 223,
     "metadata": {},
     "output_type": "execute_result"
    }
   ],
   "source": [
    "df.shape"
   ]
  },
  {
   "cell_type": "code",
   "execution_count": 224,
   "id": "df236fb9",
   "metadata": {},
   "outputs": [
    {
     "data": {
      "text/plain": [
       "(150,)"
      ]
     },
     "execution_count": 224,
     "metadata": {},
     "output_type": "execute_result"
    }
   ],
   "source": [
    "petal_width_series.shape"
   ]
  },
  {
   "cell_type": "code",
   "execution_count": 225,
   "id": "0e838157",
   "metadata": {},
   "outputs": [
    {
     "data": {
      "text/plain": [
       "750"
      ]
     },
     "execution_count": 225,
     "metadata": {},
     "output_type": "execute_result"
    }
   ],
   "source": [
    "df.size"
   ]
  },
  {
   "cell_type": "code",
   "execution_count": 226,
   "id": "6407820f",
   "metadata": {},
   "outputs": [
    {
     "data": {
      "text/html": [
       "<div>\n",
       "<style scoped>\n",
       "    .dataframe tbody tr th:only-of-type {\n",
       "        vertical-align: middle;\n",
       "    }\n",
       "\n",
       "    .dataframe tbody tr th {\n",
       "        vertical-align: top;\n",
       "    }\n",
       "\n",
       "    .dataframe thead th {\n",
       "        text-align: right;\n",
       "    }\n",
       "</style>\n",
       "<table border=\"1\" class=\"dataframe\">\n",
       "  <thead>\n",
       "    <tr style=\"text-align: right;\">\n",
       "      <th></th>\n",
       "      <th>Sepal.Length</th>\n",
       "      <th>Sepal.Width</th>\n",
       "      <th>Petal.Length</th>\n",
       "      <th>Petal.Width</th>\n",
       "      <th>Species</th>\n",
       "    </tr>\n",
       "  </thead>\n",
       "  <tbody>\n",
       "    <tr>\n",
       "      <th>1</th>\n",
       "      <td>5.1</td>\n",
       "      <td>3.5</td>\n",
       "      <td>1.4</td>\n",
       "      <td>0.2</td>\n",
       "      <td>setosa</td>\n",
       "    </tr>\n",
       "    <tr>\n",
       "      <th>2</th>\n",
       "      <td>4.9</td>\n",
       "      <td>3.0</td>\n",
       "      <td>1.4</td>\n",
       "      <td>0.2</td>\n",
       "      <td>setosa</td>\n",
       "    </tr>\n",
       "    <tr>\n",
       "      <th>3</th>\n",
       "      <td>4.7</td>\n",
       "      <td>3.2</td>\n",
       "      <td>1.3</td>\n",
       "      <td>0.2</td>\n",
       "      <td>setosa</td>\n",
       "    </tr>\n",
       "  </tbody>\n",
       "</table>\n",
       "</div>"
      ],
      "text/plain": [
       "   Sepal.Length  Sepal.Width  Petal.Length  Petal.Width Species\n",
       "1           5.1          3.5           1.4          0.2  setosa\n",
       "2           4.9          3.0           1.4          0.2  setosa\n",
       "3           4.7          3.2           1.3          0.2  setosa"
      ]
     },
     "execution_count": 226,
     "metadata": {},
     "output_type": "execute_result"
    }
   ],
   "source": [
    "df.head(3)"
   ]
  },
  {
   "cell_type": "code",
   "execution_count": 227,
   "id": "3403fff6",
   "metadata": {},
   "outputs": [
    {
     "data": {
      "text/html": [
       "<div>\n",
       "<style scoped>\n",
       "    .dataframe tbody tr th:only-of-type {\n",
       "        vertical-align: middle;\n",
       "    }\n",
       "\n",
       "    .dataframe tbody tr th {\n",
       "        vertical-align: top;\n",
       "    }\n",
       "\n",
       "    .dataframe thead th {\n",
       "        text-align: right;\n",
       "    }\n",
       "</style>\n",
       "<table border=\"1\" class=\"dataframe\">\n",
       "  <thead>\n",
       "    <tr style=\"text-align: right;\">\n",
       "      <th></th>\n",
       "      <th>Sepal.Length</th>\n",
       "      <th>Sepal.Width</th>\n",
       "      <th>Petal.Length</th>\n",
       "      <th>Petal.Width</th>\n",
       "      <th>Species</th>\n",
       "    </tr>\n",
       "  </thead>\n",
       "  <tbody>\n",
       "    <tr>\n",
       "      <th>147</th>\n",
       "      <td>6.3</td>\n",
       "      <td>2.5</td>\n",
       "      <td>5.0</td>\n",
       "      <td>1.9</td>\n",
       "      <td>virginica</td>\n",
       "    </tr>\n",
       "    <tr>\n",
       "      <th>148</th>\n",
       "      <td>6.5</td>\n",
       "      <td>3.0</td>\n",
       "      <td>5.2</td>\n",
       "      <td>2.0</td>\n",
       "      <td>virginica</td>\n",
       "    </tr>\n",
       "    <tr>\n",
       "      <th>149</th>\n",
       "      <td>6.2</td>\n",
       "      <td>3.4</td>\n",
       "      <td>5.4</td>\n",
       "      <td>2.3</td>\n",
       "      <td>virginica</td>\n",
       "    </tr>\n",
       "    <tr>\n",
       "      <th>150</th>\n",
       "      <td>5.9</td>\n",
       "      <td>3.0</td>\n",
       "      <td>5.1</td>\n",
       "      <td>1.8</td>\n",
       "      <td>virginica</td>\n",
       "    </tr>\n",
       "  </tbody>\n",
       "</table>\n",
       "</div>"
      ],
      "text/plain": [
       "     Sepal.Length  Sepal.Width  Petal.Length  Petal.Width    Species\n",
       "147           6.3          2.5           5.0          1.9  virginica\n",
       "148           6.5          3.0           5.2          2.0  virginica\n",
       "149           6.2          3.4           5.4          2.3  virginica\n",
       "150           5.9          3.0           5.1          1.8  virginica"
      ]
     },
     "execution_count": 227,
     "metadata": {},
     "output_type": "execute_result"
    }
   ],
   "source": [
    "df.tail(4)"
   ]
  },
  {
   "cell_type": "code",
   "execution_count": 228,
   "id": "d77dd38b",
   "metadata": {},
   "outputs": [
    {
     "data": {
      "text/plain": [
       "0       red\n",
       "1    yellow\n",
       "2     green\n",
       "dtype: object"
      ]
     },
     "execution_count": 228,
     "metadata": {},
     "output_type": "execute_result"
    }
   ],
   "source": [
    "colors_series.head(3)"
   ]
  },
  {
   "cell_type": "code",
   "execution_count": 229,
   "id": "25f6106e",
   "metadata": {
    "scrolled": true
   },
   "outputs": [
    {
     "data": {
      "text/plain": [
       "4    orange\n",
       "5       red\n",
       "dtype: object"
      ]
     },
     "execution_count": 229,
     "metadata": {},
     "output_type": "execute_result"
    }
   ],
   "source": [
    "colors_series.sample(2)"
   ]
  },
  {
   "cell_type": "code",
   "execution_count": 230,
   "id": "916be0ad",
   "metadata": {},
   "outputs": [
    {
     "data": {
      "text/plain": [
       "2    green\n",
       "3     blue\n",
       "dtype: object"
      ]
     },
     "execution_count": 230,
     "metadata": {},
     "output_type": "execute_result"
    }
   ],
   "source": [
    "colors_series[2:4]"
   ]
  },
  {
   "cell_type": "code",
   "execution_count": 231,
   "id": "4ca77733",
   "metadata": {},
   "outputs": [
    {
     "data": {
      "text/plain": [
       "array(['blue', 'orange'], dtype=object)"
      ]
     },
     "execution_count": 231,
     "metadata": {},
     "output_type": "execute_result"
    }
   ],
   "source": [
    "colors_series.head().tail(2).values"
   ]
  },
  {
   "cell_type": "code",
   "execution_count": 232,
   "id": "b033dcef",
   "metadata": {},
   "outputs": [
    {
     "data": {
      "text/plain": [
       "red       2\n",
       "yellow    1\n",
       "green     1\n",
       "blue      1\n",
       "orange    1\n",
       "violet    1\n",
       "indigo    1\n",
       "dtype: int64"
      ]
     },
     "execution_count": 232,
     "metadata": {},
     "output_type": "execute_result"
    }
   ],
   "source": [
    "colors_series.value_counts()  # group by and count"
   ]
  },
  {
   "cell_type": "code",
   "execution_count": 233,
   "id": "4280f697",
   "metadata": {},
   "outputs": [
    {
     "data": {
      "text/plain": [
       "Index(['red', 'yellow', 'green', 'blue', 'orange', 'violet', 'indigo'], dtype='object')"
      ]
     },
     "execution_count": 233,
     "metadata": {},
     "output_type": "execute_result"
    }
   ],
   "source": [
    "val_counts = colors_series.value_counts()\n",
    "val_counts.index"
   ]
  },
  {
   "cell_type": "code",
   "execution_count": 234,
   "id": "a0bd6e80",
   "metadata": {
    "scrolled": true
   },
   "outputs": [
    {
     "data": {
      "text/plain": [
       "count       8\n",
       "unique      7\n",
       "top       red\n",
       "freq        2\n",
       "dtype: object"
      ]
     },
     "execution_count": 234,
     "metadata": {},
     "output_type": "execute_result"
    }
   ],
   "source": [
    "colors_series.describe()"
   ]
  },
  {
   "cell_type": "code",
   "execution_count": 235,
   "id": "ba10b917",
   "metadata": {},
   "outputs": [
    {
     "data": {
      "text/plain": [
       "count    150.000000\n",
       "mean       1.199333\n",
       "std        0.762238\n",
       "min        0.100000\n",
       "25%        0.300000\n",
       "50%        1.300000\n",
       "75%        1.800000\n",
       "max        2.500000\n",
       "Name: Petal.Width, dtype: float64"
      ]
     },
     "execution_count": 235,
     "metadata": {},
     "output_type": "execute_result"
    }
   ],
   "source": [
    "petal_width_stats = petal_width_series.describe()\n",
    "petal_width_stats"
   ]
  },
  {
   "cell_type": "code",
   "execution_count": 236,
   "id": "88601686",
   "metadata": {},
   "outputs": [
    {
     "data": {
      "text/plain": [
       "1.199333333333334"
      ]
     },
     "execution_count": 236,
     "metadata": {},
     "output_type": "execute_result"
    }
   ],
   "source": [
    "petal_width_stats['mean']"
   ]
  },
  {
   "cell_type": "code",
   "execution_count": 237,
   "id": "a8ce2e54",
   "metadata": {},
   "outputs": [
    {
     "data": {
      "text/plain": [
       "150.0"
      ]
     },
     "execution_count": 237,
     "metadata": {},
     "output_type": "execute_result"
    }
   ],
   "source": [
    "petal_width_series.describe()['count']"
   ]
  },
  {
   "cell_type": "code",
   "execution_count": 238,
   "id": "babeaefd",
   "metadata": {},
   "outputs": [],
   "source": [
    "arr = np.array([5, 10, 15, 20, 25, 30, 35, 40, 40])"
   ]
  },
  {
   "cell_type": "code",
   "execution_count": 239,
   "id": "8963e5b1",
   "metadata": {},
   "outputs": [],
   "source": [
    "numeric_series = pd.Series(arr)"
   ]
  },
  {
   "cell_type": "code",
   "execution_count": 240,
   "id": "6234cc3a",
   "metadata": {},
   "outputs": [
    {
     "data": {
      "text/plain": [
       "0     5\n",
       "1    10\n",
       "2    15\n",
       "3    20\n",
       "4    25\n",
       "5    30\n",
       "6    35\n",
       "7    40\n",
       "8    40\n",
       "dtype: object"
      ]
     },
     "execution_count": 240,
     "metadata": {},
     "output_type": "execute_result"
    }
   ],
   "source": [
    "numeric_series.astype(str)"
   ]
  },
  {
   "cell_type": "code",
   "execution_count": 241,
   "id": "67532e85",
   "metadata": {},
   "outputs": [
    {
     "ename": "NameError",
     "evalue": "name 'color_series' is not defined",
     "output_type": "error",
     "traceback": [
      "\u001b[0;31m---------------------------------------------------------------------------\u001b[0m",
      "\u001b[0;31mNameError\u001b[0m                                 Traceback (most recent call last)",
      "Input \u001b[0;32mIn [241]\u001b[0m, in \u001b[0;36m<cell line: 1>\u001b[0;34m()\u001b[0m\n\u001b[0;32m----> 1\u001b[0m \u001b[43mcolor_series\u001b[49m\u001b[38;5;241m.\u001b[39mastype(\u001b[38;5;28mfloat\u001b[39m)\n",
      "\u001b[0;31mNameError\u001b[0m: name 'color_series' is not defined"
     ]
    }
   ],
   "source": [
    "color_series.astype(float)"
   ]
  },
  {
   "cell_type": "code",
   "execution_count": null,
   "id": "b304eadd",
   "metadata": {},
   "outputs": [],
   "source": [
    "numeric_series.astype(float)"
   ]
  },
  {
   "cell_type": "code",
   "execution_count": null,
   "id": "9728f6bf",
   "metadata": {},
   "outputs": [],
   "source": [
    "numeric_series.dtype"
   ]
  },
  {
   "cell_type": "code",
   "execution_count": null,
   "id": "53fb5e74",
   "metadata": {},
   "outputs": [],
   "source": [
    "colors_series.value_counts(normalize=True)"
   ]
  },
  {
   "cell_type": "code",
   "execution_count": null,
   "id": "46b4c814",
   "metadata": {},
   "outputs": [],
   "source": [
    "colors_series.sort_values()"
   ]
  },
  {
   "cell_type": "code",
   "execution_count": null,
   "id": "b4b30355",
   "metadata": {},
   "outputs": [],
   "source": [
    "numeric_series.sort_values()"
   ]
  },
  {
   "cell_type": "code",
   "execution_count": null,
   "id": "afc3f76b",
   "metadata": {},
   "outputs": [],
   "source": []
  },
  {
   "cell_type": "code",
   "execution_count": null,
   "id": "94774cdc",
   "metadata": {
    "scrolled": false
   },
   "outputs": [],
   "source": [
    "numeric_series.sort_values(ascending=False)"
   ]
  },
  {
   "cell_type": "code",
   "execution_count": null,
   "id": "0226958b",
   "metadata": {},
   "outputs": [],
   "source": [
    "diction_series"
   ]
  },
  {
   "cell_type": "code",
   "execution_count": null,
   "id": "ccaf2cd8",
   "metadata": {},
   "outputs": [],
   "source": [
    "diction_series.sort_index()"
   ]
  },
  {
   "cell_type": "code",
   "execution_count": null,
   "id": "74e9c1ee",
   "metadata": {},
   "outputs": [],
   "source": [
    "diction_series.sort_index(ascending=False)"
   ]
  },
  {
   "cell_type": "code",
   "execution_count": null,
   "id": "1f25ce21",
   "metadata": {},
   "outputs": [],
   "source": [
    "colors_series.describe()"
   ]
  },
  {
   "cell_type": "code",
   "execution_count": null,
   "id": "7c5c611c",
   "metadata": {},
   "outputs": [],
   "source": [
    "type(colors_series.describe())"
   ]
  },
  {
   "cell_type": "code",
   "execution_count": null,
   "id": "66cb97b9",
   "metadata": {},
   "outputs": [],
   "source": [
    "numeric_series.describe()"
   ]
  },
  {
   "cell_type": "code",
   "execution_count": null,
   "id": "6a41da4d",
   "metadata": {},
   "outputs": [],
   "source": [
    "colors_series == 'red'"
   ]
  },
  {
   "cell_type": "code",
   "execution_count": null,
   "id": "4ed3d0c0",
   "metadata": {},
   "outputs": [],
   "source": [
    "(colors_series == 'red').any()"
   ]
  },
  {
   "cell_type": "code",
   "execution_count": null,
   "id": "a150f711",
   "metadata": {},
   "outputs": [],
   "source": [
    "numeric_series < 0"
   ]
  },
  {
   "cell_type": "code",
   "execution_count": null,
   "id": "355e7bcb",
   "metadata": {},
   "outputs": [],
   "source": [
    "(numeric_series < 0).any()"
   ]
  },
  {
   "cell_type": "code",
   "execution_count": null,
   "id": "ef780730",
   "metadata": {},
   "outputs": [],
   "source": [
    "(colors_series == 'red')"
   ]
  },
  {
   "cell_type": "code",
   "execution_count": null,
   "id": "1f2173e5",
   "metadata": {
    "scrolled": true
   },
   "outputs": [],
   "source": [
    "(colors_series == 'red').all()"
   ]
  },
  {
   "cell_type": "code",
   "execution_count": null,
   "id": "b36e3a80",
   "metadata": {},
   "outputs": [],
   "source": [
    "(numeric_series > 0)"
   ]
  },
  {
   "cell_type": "code",
   "execution_count": null,
   "id": "fe705fbf",
   "metadata": {},
   "outputs": [],
   "source": [
    "(numeric_series > 0).all()"
   ]
  },
  {
   "cell_type": "code",
   "execution_count": null,
   "id": "1b82f452",
   "metadata": {},
   "outputs": [],
   "source": [
    "'red'.capitalize()"
   ]
  },
  {
   "cell_type": "code",
   "execution_count": null,
   "id": "3886c0b9",
   "metadata": {},
   "outputs": [],
   "source": [
    "# string methods require .str to work\n",
    "colors_series.str.capitalize()"
   ]
  },
  {
   "cell_type": "code",
   "execution_count": null,
   "id": "6c4ee1af",
   "metadata": {},
   "outputs": [],
   "source": [
    "colors_series.str.find('r')"
   ]
  },
  {
   "cell_type": "code",
   "execution_count": null,
   "id": "1217e806",
   "metadata": {},
   "outputs": [],
   "source": [
    "colors_series.str.startswith('r')"
   ]
  },
  {
   "cell_type": "code",
   "execution_count": null,
   "id": "6a28896a",
   "metadata": {},
   "outputs": [],
   "source": [
    "colors_series.str.replace('e', '')"
   ]
  },
  {
   "cell_type": "code",
   "execution_count": null,
   "id": "55a22885",
   "metadata": {
    "scrolled": true
   },
   "outputs": [],
   "source": [
    "colors_series"
   ]
  },
  {
   "cell_type": "code",
   "execution_count": null,
   "id": "32bb5c12",
   "metadata": {},
   "outputs": [],
   "source": [
    "colors_series.str.replace('e', '').str.\\\n",
    "    replace('o', '0').str.capitalize().value_counts().head(4)"
   ]
  },
  {
   "cell_type": "code",
   "execution_count": null,
   "id": "69a8df4e",
   "metadata": {},
   "outputs": [],
   "source": [
    "ends_with_d = colors_series.str.endswith('d')\n",
    "ends_with_d"
   ]
  },
  {
   "cell_type": "code",
   "execution_count": null,
   "id": "1b2c972a",
   "metadata": {},
   "outputs": [],
   "source": [
    "colors_series[ends_with_d]"
   ]
  },
  {
   "cell_type": "code",
   "execution_count": null,
   "id": "25de4104",
   "metadata": {},
   "outputs": [],
   "source": [
    "colors_series[colors_series.str.endswith('d')]"
   ]
  },
  {
   "cell_type": "code",
   "execution_count": null,
   "id": "8e03fd66",
   "metadata": {},
   "outputs": [],
   "source": [
    "colors_series[colors_series.str.endswith('d')].str.upper()"
   ]
  },
  {
   "cell_type": "code",
   "execution_count": null,
   "id": "76c39708",
   "metadata": {},
   "outputs": [],
   "source": [
    "my_red_count_example_word = 'rrred'"
   ]
  },
  {
   "cell_type": "code",
   "execution_count": null,
   "id": "d2401d25",
   "metadata": {},
   "outputs": [],
   "source": [
    "my_red_count_example_word.count('r')"
   ]
  },
  {
   "cell_type": "code",
   "execution_count": null,
   "id": "b21dcbed",
   "metadata": {},
   "outputs": [],
   "source": [
    "lambda x: x.count('r')"
   ]
  },
  {
   "cell_type": "code",
   "execution_count": null,
   "id": "c271ca2d",
   "metadata": {},
   "outputs": [],
   "source": [
    "colors_series.apply(lambda x: x.count('r'))"
   ]
  },
  {
   "cell_type": "code",
   "execution_count": null,
   "id": "cd9ab8e0",
   "metadata": {},
   "outputs": [],
   "source": [
    "def red_or_not(string):\n",
    "    if string.lower() == 'red':\n",
    "        return 'red'\n",
    "    else:\n",
    "        return 'not_red'"
   ]
  },
  {
   "cell_type": "code",
   "execution_count": null,
   "id": "96f0fe28",
   "metadata": {},
   "outputs": [],
   "source": [
    "colors_series.apply(red_or_not)"
   ]
  },
  {
   "cell_type": "code",
   "execution_count": null,
   "id": "a9063bf3",
   "metadata": {},
   "outputs": [],
   "source": [
    "colors_series.apply((red_or_not)).value_counts()"
   ]
  },
  {
   "cell_type": "code",
   "execution_count": null,
   "id": "23ee550d",
   "metadata": {},
   "outputs": [],
   "source": [
    "'valentines' in 'big red vaentines heart'"
   ]
  },
  {
   "cell_type": "code",
   "execution_count": null,
   "id": "38ba5196",
   "metadata": {},
   "outputs": [],
   "source": [
    "# series.isin(values)\n",
    "my_colors = ['black', 'white', 'red']"
   ]
  },
  {
   "cell_type": "code",
   "execution_count": null,
   "id": "40a39c64",
   "metadata": {},
   "outputs": [],
   "source": [
    "colors_series.isin(my_colors)"
   ]
  },
  {
   "cell_type": "code",
   "execution_count": null,
   "id": "e54cb33e",
   "metadata": {},
   "outputs": [],
   "source": [
    "bools = colors_series.isin(my_colors)\n",
    "print(type(bools))\n",
    "print(bools.dtype)"
   ]
  },
  {
   "cell_type": "code",
   "execution_count": null,
   "id": "6b3e1016",
   "metadata": {
    "scrolled": true
   },
   "outputs": [],
   "source": [
    "colors_series[bools]"
   ]
  },
  {
   "cell_type": "code",
   "execution_count": null,
   "id": "5d17b102",
   "metadata": {},
   "outputs": [],
   "source": [
    "#colors where colors in ...\n",
    "colors_series[colors_series.isin(['red', 'black', 'orange'])]"
   ]
  },
  {
   "cell_type": "code",
   "execution_count": null,
   "id": "a2acd24c",
   "metadata": {},
   "outputs": [],
   "source": [
    "diction_series.head(3)"
   ]
  },
  {
   "cell_type": "code",
   "execution_count": null,
   "id": "1d845e6f",
   "metadata": {},
   "outputs": [],
   "source": [
    "diction_series['a':]"
   ]
  },
  {
   "cell_type": "code",
   "execution_count": null,
   "id": "90f60d64",
   "metadata": {},
   "outputs": [],
   "source": [
    "diction_series['a':'d']"
   ]
  },
  {
   "cell_type": "code",
   "execution_count": null,
   "id": "ab1e19c5",
   "metadata": {},
   "outputs": [],
   "source": [
    "diction_series[['a','d','f']]"
   ]
  },
  {
   "cell_type": "code",
   "execution_count": null,
   "id": "1fc5312f",
   "metadata": {},
   "outputs": [],
   "source": [
    "diction_series.apply(['a'],['d'],['f'])"
   ]
  },
  {
   "cell_type": "code",
   "execution_count": 244,
   "id": "10e0e66d",
   "metadata": {},
   "outputs": [
    {
     "data": {
      "text/html": [
       "<div>\n",
       "<style scoped>\n",
       "    .dataframe tbody tr th:only-of-type {\n",
       "        vertical-align: middle;\n",
       "    }\n",
       "\n",
       "    .dataframe tbody tr th {\n",
       "        vertical-align: top;\n",
       "    }\n",
       "\n",
       "    .dataframe thead th {\n",
       "        text-align: right;\n",
       "    }\n",
       "</style>\n",
       "<table border=\"1\" class=\"dataframe\">\n",
       "  <thead>\n",
       "    <tr style=\"text-align: right;\">\n",
       "      <th></th>\n",
       "      <th>total_bill</th>\n",
       "      <th>tip</th>\n",
       "      <th>sex</th>\n",
       "      <th>smoker</th>\n",
       "      <th>day</th>\n",
       "      <th>time</th>\n",
       "      <th>size</th>\n",
       "    </tr>\n",
       "  </thead>\n",
       "  <tbody>\n",
       "    <tr>\n",
       "      <th>1</th>\n",
       "      <td>16.99</td>\n",
       "      <td>1.01</td>\n",
       "      <td>Female</td>\n",
       "      <td>No</td>\n",
       "      <td>Sun</td>\n",
       "      <td>Dinner</td>\n",
       "      <td>2</td>\n",
       "    </tr>\n",
       "    <tr>\n",
       "      <th>2</th>\n",
       "      <td>10.34</td>\n",
       "      <td>1.66</td>\n",
       "      <td>Male</td>\n",
       "      <td>No</td>\n",
       "      <td>Sun</td>\n",
       "      <td>Dinner</td>\n",
       "      <td>3</td>\n",
       "    </tr>\n",
       "    <tr>\n",
       "      <th>3</th>\n",
       "      <td>21.01</td>\n",
       "      <td>3.50</td>\n",
       "      <td>Male</td>\n",
       "      <td>No</td>\n",
       "      <td>Sun</td>\n",
       "      <td>Dinner</td>\n",
       "      <td>3</td>\n",
       "    </tr>\n",
       "    <tr>\n",
       "      <th>4</th>\n",
       "      <td>23.68</td>\n",
       "      <td>3.31</td>\n",
       "      <td>Male</td>\n",
       "      <td>No</td>\n",
       "      <td>Sun</td>\n",
       "      <td>Dinner</td>\n",
       "      <td>2</td>\n",
       "    </tr>\n",
       "    <tr>\n",
       "      <th>5</th>\n",
       "      <td>24.59</td>\n",
       "      <td>3.61</td>\n",
       "      <td>Female</td>\n",
       "      <td>No</td>\n",
       "      <td>Sun</td>\n",
       "      <td>Dinner</td>\n",
       "      <td>4</td>\n",
       "    </tr>\n",
       "    <tr>\n",
       "      <th>...</th>\n",
       "      <td>...</td>\n",
       "      <td>...</td>\n",
       "      <td>...</td>\n",
       "      <td>...</td>\n",
       "      <td>...</td>\n",
       "      <td>...</td>\n",
       "      <td>...</td>\n",
       "    </tr>\n",
       "    <tr>\n",
       "      <th>240</th>\n",
       "      <td>29.03</td>\n",
       "      <td>5.92</td>\n",
       "      <td>Male</td>\n",
       "      <td>No</td>\n",
       "      <td>Sat</td>\n",
       "      <td>Dinner</td>\n",
       "      <td>3</td>\n",
       "    </tr>\n",
       "    <tr>\n",
       "      <th>241</th>\n",
       "      <td>27.18</td>\n",
       "      <td>2.00</td>\n",
       "      <td>Female</td>\n",
       "      <td>Yes</td>\n",
       "      <td>Sat</td>\n",
       "      <td>Dinner</td>\n",
       "      <td>2</td>\n",
       "    </tr>\n",
       "    <tr>\n",
       "      <th>242</th>\n",
       "      <td>22.67</td>\n",
       "      <td>2.00</td>\n",
       "      <td>Male</td>\n",
       "      <td>Yes</td>\n",
       "      <td>Sat</td>\n",
       "      <td>Dinner</td>\n",
       "      <td>2</td>\n",
       "    </tr>\n",
       "    <tr>\n",
       "      <th>243</th>\n",
       "      <td>17.82</td>\n",
       "      <td>1.75</td>\n",
       "      <td>Male</td>\n",
       "      <td>No</td>\n",
       "      <td>Sat</td>\n",
       "      <td>Dinner</td>\n",
       "      <td>2</td>\n",
       "    </tr>\n",
       "    <tr>\n",
       "      <th>244</th>\n",
       "      <td>18.78</td>\n",
       "      <td>3.00</td>\n",
       "      <td>Female</td>\n",
       "      <td>No</td>\n",
       "      <td>Thur</td>\n",
       "      <td>Dinner</td>\n",
       "      <td>2</td>\n",
       "    </tr>\n",
       "  </tbody>\n",
       "</table>\n",
       "<p>244 rows × 7 columns</p>\n",
       "</div>"
      ],
      "text/plain": [
       "     total_bill   tip     sex smoker   day    time  size\n",
       "1         16.99  1.01  Female     No   Sun  Dinner     2\n",
       "2         10.34  1.66    Male     No   Sun  Dinner     3\n",
       "3         21.01  3.50    Male     No   Sun  Dinner     3\n",
       "4         23.68  3.31    Male     No   Sun  Dinner     2\n",
       "5         24.59  3.61  Female     No   Sun  Dinner     4\n",
       "..          ...   ...     ...    ...   ...     ...   ...\n",
       "240       29.03  5.92    Male     No   Sat  Dinner     3\n",
       "241       27.18  2.00  Female    Yes   Sat  Dinner     2\n",
       "242       22.67  2.00    Male    Yes   Sat  Dinner     2\n",
       "243       17.82  1.75    Male     No   Sat  Dinner     2\n",
       "244       18.78  3.00  Female     No  Thur  Dinner     2\n",
       "\n",
       "[244 rows x 7 columns]"
      ]
     },
     "execution_count": 244,
     "metadata": {},
     "output_type": "execute_result"
    }
   ],
   "source": [
    "from pydataset import data\n",
    "\n",
    "tips = data('tips')\n",
    "tips"
   ]
  },
  {
   "cell_type": "code",
   "execution_count": 245,
   "id": "73c760c7",
   "metadata": {},
   "outputs": [
    {
     "data": {
      "text/plain": [
       "pandas.core.frame.DataFrame"
      ]
     },
     "execution_count": 245,
     "metadata": {},
     "output_type": "execute_result"
    }
   ],
   "source": [
    "type(tips)"
   ]
  },
  {
   "cell_type": "code",
   "execution_count": 246,
   "id": "cec5829e",
   "metadata": {
    "scrolled": true
   },
   "outputs": [
    {
     "data": {
      "text/html": [
       "<div>\n",
       "<style scoped>\n",
       "    .dataframe tbody tr th:only-of-type {\n",
       "        vertical-align: middle;\n",
       "    }\n",
       "\n",
       "    .dataframe tbody tr th {\n",
       "        vertical-align: top;\n",
       "    }\n",
       "\n",
       "    .dataframe thead th {\n",
       "        text-align: right;\n",
       "    }\n",
       "</style>\n",
       "<table border=\"1\" class=\"dataframe\">\n",
       "  <thead>\n",
       "    <tr style=\"text-align: right;\">\n",
       "      <th></th>\n",
       "      <th>total_bill</th>\n",
       "      <th>tip</th>\n",
       "      <th>size</th>\n",
       "    </tr>\n",
       "  </thead>\n",
       "  <tbody>\n",
       "    <tr>\n",
       "      <th>count</th>\n",
       "      <td>244.000000</td>\n",
       "      <td>244.000000</td>\n",
       "      <td>244.000000</td>\n",
       "    </tr>\n",
       "    <tr>\n",
       "      <th>mean</th>\n",
       "      <td>19.785943</td>\n",
       "      <td>2.998279</td>\n",
       "      <td>2.569672</td>\n",
       "    </tr>\n",
       "    <tr>\n",
       "      <th>std</th>\n",
       "      <td>8.902412</td>\n",
       "      <td>1.383638</td>\n",
       "      <td>0.951100</td>\n",
       "    </tr>\n",
       "    <tr>\n",
       "      <th>min</th>\n",
       "      <td>3.070000</td>\n",
       "      <td>1.000000</td>\n",
       "      <td>1.000000</td>\n",
       "    </tr>\n",
       "    <tr>\n",
       "      <th>25%</th>\n",
       "      <td>13.347500</td>\n",
       "      <td>2.000000</td>\n",
       "      <td>2.000000</td>\n",
       "    </tr>\n",
       "    <tr>\n",
       "      <th>50%</th>\n",
       "      <td>17.795000</td>\n",
       "      <td>2.900000</td>\n",
       "      <td>2.000000</td>\n",
       "    </tr>\n",
       "    <tr>\n",
       "      <th>75%</th>\n",
       "      <td>24.127500</td>\n",
       "      <td>3.562500</td>\n",
       "      <td>3.000000</td>\n",
       "    </tr>\n",
       "    <tr>\n",
       "      <th>max</th>\n",
       "      <td>50.810000</td>\n",
       "      <td>10.000000</td>\n",
       "      <td>6.000000</td>\n",
       "    </tr>\n",
       "  </tbody>\n",
       "</table>\n",
       "</div>"
      ],
      "text/plain": [
       "       total_bill         tip        size\n",
       "count  244.000000  244.000000  244.000000\n",
       "mean    19.785943    2.998279    2.569672\n",
       "std      8.902412    1.383638    0.951100\n",
       "min      3.070000    1.000000    1.000000\n",
       "25%     13.347500    2.000000    2.000000\n",
       "50%     17.795000    2.900000    2.000000\n",
       "75%     24.127500    3.562500    3.000000\n",
       "max     50.810000   10.000000    6.000000"
      ]
     },
     "execution_count": 246,
     "metadata": {},
     "output_type": "execute_result"
    }
   ],
   "source": [
    "tips.describe()"
   ]
  },
  {
   "cell_type": "code",
   "execution_count": null,
   "id": "f194b200",
   "metadata": {},
   "outputs": [],
   "source": []
  },
  {
   "cell_type": "code",
   "execution_count": 249,
   "id": "5b83217d",
   "metadata": {},
   "outputs": [
    {
     "ename": "NameError",
     "evalue": "name 'tip' is not defined",
     "output_type": "error",
     "traceback": [
      "\u001b[0;31m---------------------------------------------------------------------------\u001b[0m",
      "\u001b[0;31mNameError\u001b[0m                                 Traceback (most recent call last)",
      "Input \u001b[0;32mIn [249]\u001b[0m, in \u001b[0;36m<cell line: 1>\u001b[0;34m()\u001b[0m\n\u001b[0;32m----> 1\u001b[0m pd\u001b[38;5;241m.\u001b[39mcut(\u001b[43mtip\u001b[49m,\u001b[38;5;241m5\u001b[39m)\n",
      "\u001b[0;31mNameError\u001b[0m: name 'tip' is not defined"
     ]
    }
   ],
   "source": [
    "pd.cut(tip,5)"
   ]
  },
  {
   "cell_type": "code",
   "execution_count": 243,
   "id": "7d4b8ddb",
   "metadata": {},
   "outputs": [
    {
     "ename": "NameError",
     "evalue": "name 'tip' is not defined",
     "output_type": "error",
     "traceback": [
      "\u001b[0;31m---------------------------------------------------------------------------\u001b[0m",
      "\u001b[0;31mNameError\u001b[0m                                 Traceback (most recent call last)",
      "Input \u001b[0;32mIn [243]\u001b[0m, in \u001b[0;36m<cell line: 1>\u001b[0;34m()\u001b[0m\n\u001b[0;32m----> 1\u001b[0m pd\u001b[38;5;241m.\u001b[39mcut(\u001b[43mtip\u001b[49m,\u001b[38;5;241m5\u001b[39m)\u001b[38;5;241m.\u001b[39mvalue_counts()\n",
      "\u001b[0;31mNameError\u001b[0m: name 'tip' is not defined"
     ]
    }
   ],
   "source": [
    "pd.cut(tip,5).value_counts()"
   ]
  },
  {
   "cell_type": "code",
   "execution_count": null,
   "id": "7ea4f655",
   "metadata": {},
   "outputs": [],
   "source": []
  },
  {
   "cell_type": "code",
   "execution_count": null,
   "id": "b3380b3c",
   "metadata": {},
   "outputs": [],
   "source": []
  },
  {
   "cell_type": "code",
   "execution_count": null,
   "id": "30727bb7",
   "metadata": {},
   "outputs": [],
   "source": []
  },
  {
   "cell_type": "code",
   "execution_count": null,
   "id": "678a5477",
   "metadata": {},
   "outputs": [],
   "source": []
  },
  {
   "cell_type": "code",
   "execution_count": null,
   "id": "2486061b",
   "metadata": {},
   "outputs": [],
   "source": []
  },
  {
   "cell_type": "code",
   "execution_count": null,
   "id": "ec0b71b5",
   "metadata": {},
   "outputs": [],
   "source": []
  },
  {
   "cell_type": "code",
   "execution_count": null,
   "id": "3df0079e",
   "metadata": {},
   "outputs": [],
   "source": []
  },
  {
   "cell_type": "code",
   "execution_count": null,
   "id": "f6018ab1",
   "metadata": {},
   "outputs": [],
   "source": []
  },
  {
   "cell_type": "code",
   "execution_count": null,
   "id": "3bdd8d28",
   "metadata": {},
   "outputs": [],
   "source": []
  },
  {
   "cell_type": "code",
   "execution_count": null,
   "id": "e628cd4f",
   "metadata": {},
   "outputs": [],
   "source": []
  }
 ],
 "metadata": {
  "kernelspec": {
   "display_name": "Python 3 (ipykernel)",
   "language": "python",
   "name": "python3"
  },
  "language_info": {
   "codemirror_mode": {
    "name": "ipython",
    "version": 3
   },
   "file_extension": ".py",
   "mimetype": "text/x-python",
   "name": "python",
   "nbconvert_exporter": "python",
   "pygments_lexer": "ipython3",
   "version": "3.9.13"
  }
 },
 "nbformat": 4,
 "nbformat_minor": 5
}
